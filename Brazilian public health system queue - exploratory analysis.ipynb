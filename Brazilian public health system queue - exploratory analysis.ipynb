{
 "cells": [
  {
   "cell_type": "code",
   "execution_count": 1,
   "metadata": {},
   "outputs": [],
   "source": [
    "import pandas as pd\n",
    "\n",
    "%matplotlib inline\n",
    "pd.options.display.max_columns = 80\n",
    "pd.options.display.max_rows = 90"
   ]
  },
  {
   "cell_type": "markdown",
   "metadata": {},
   "source": [
    "# goal"
   ]
  },
  {
   "cell_type": "markdown",
   "metadata": {},
   "source": [
    "Brazilian public health system has a long queue wait time: some people wait for years to do exams and surgeries.\n",
    "In this notebook, I analyzed the queue records in order to find ways to reduce the waiting time."
   ]
  },
  {
   "cell_type": "markdown",
   "metadata": {},
   "source": [
    "# dataset"
   ]
  },
  {
   "cell_type": "markdown",
   "metadata": {},
   "source": [
    "The data used for these analyzes are available at https://drive.google.com/open?id=10YGsNwr8dQWXZhr9i6z-Ttp10GYHTg3N.\n",
    "\n",
    "Updated data can be queried at https://listadeespera.saude.sc.gov.br/consulta/completa.html."
   ]
  },
  {
   "cell_type": "code",
   "execution_count": 2,
   "metadata": {},
   "outputs": [],
   "source": [
    "filename = '~/Downloads/public_queue-2017-11-30.csv'\n",
    "df = pd.read_csv(filename)"
   ]
  },
  {
   "cell_type": "code",
   "execution_count": 3,
   "metadata": {},
   "outputs": [
    {
     "data": {
      "text/plain": [
       "Index(['SERVIÇO', 'CENTRAL DE REGULAÇÃO/RESPONSÁVEL',\n",
       "       'MUNICÍPIO DE RESIDÊNCIA', 'POSIÇÃO', 'TEMPO MÉDIO DE ESPERA(DIAS)',\n",
       "       'CLASSIFICAÇÃO', 'TIPO DA LISTA', 'DOCUMENTO', 'DATA DA SOLICITAÇÃO',\n",
       "       'CIDADÃO', 'NASCIMENTO', 'DESCRIÇÃO DO PROCEDIMENTO',\n",
       "       'CNES DA CENTRAL SOLICITANTE', 'CNES DA CENTRAL EXECUTANTE',\n",
       "       'CNES DA UNIDADE SOLICITANTE', 'CÓDIGO SIGTAP DO PROCEDIMENTO',\n",
       "       'DESCRIÇÃO DO GRUPO DO PROCEDIMENTO'],\n",
       "      dtype='object')"
      ]
     },
     "execution_count": 3,
     "metadata": {},
     "output_type": "execute_result"
    }
   ],
   "source": [
    "df.columns"
   ]
  },
  {
   "cell_type": "code",
   "execution_count": 4,
   "metadata": {},
   "outputs": [],
   "source": [
    "df.rename(columns={'MUNICÍPIO DE RESIDÊNCIA': 'city_of_residence',\n",
    "                   'CENTRAL DE REGULAÇÃO/RESPONSÁVEL': 'regulation_center',\n",
    "                   'TEMPO MÉDIO DE ESPERA(DIAS)': 'average_waiting_days',\n",
    "                   'DATA DA SOLICITAÇÃO': 'request_date',\n",
    "                   'DESCRIÇÃO DO PROCEDIMENTO': 'procedure_description',\n",
    "                   'CNES DA CENTRAL EXECUTANTE': 'executing_center_code',\n",
    "                   'CNES DA CENTRAL SOLICITANTE': 'requesting_centra_code',\n",
    "                   'CNES DA UNIDADE SOLICITANTE': 'requesting_unit_code',\n",
    "                   'CÓDIGO SIGTAP DO PROCEDIMENTO': 'procedure_code',\n",
    "                   'DESCRIÇÃO DO GRUPO DO PROCEDIMENTO': 'description_of_the_procedure_group',\n",
    "                   'SERVIÇO': 'service',\n",
    "                   'CLASSIFICAÇÃO': 'classification',\n",
    "                   'TIPO DA LISTA': 'list_type',\n",
    "                   'DOCUMENTO': 'document',\n",
    "                   'CIDADÃO': 'name', \n",
    "                   'NASCIMENTO': 'date_of_birth',\n",
    "                   'POSIÇÃO': 'position'\n",
    "                  }, inplace=True)"
   ]
  },
  {
   "cell_type": "code",
   "execution_count": 5,
   "metadata": {},
   "outputs": [
    {
     "data": {
      "text/plain": [
       "(1306967, 17)"
      ]
     },
     "execution_count": 5,
     "metadata": {},
     "output_type": "execute_result"
    }
   ],
   "source": [
    "df.shape"
   ]
  },
  {
   "cell_type": "code",
   "execution_count": 6,
   "metadata": {},
   "outputs": [
    {
     "name": "stdout",
     "output_type": "stream",
     "text": [
      "<class 'pandas.core.frame.DataFrame'>\n",
      "RangeIndex: 1306967 entries, 0 to 1306966\n",
      "Data columns (total 17 columns):\n",
      "service                               1306967 non-null object\n",
      "regulation_center                     1306967 non-null object\n",
      "city_of_residence                     1306967 non-null object\n",
      "position                              1306967 non-null int64\n",
      "average_waiting_days                  1288724 non-null float64\n",
      "classification                        1306967 non-null object\n",
      "list_type                             1306967 non-null object\n",
      "document                              1306967 non-null object\n",
      "request_date                          1306273 non-null object\n",
      "name                                  1306967 non-null object\n",
      "date_of_birth                         0 non-null float64\n",
      "procedure_description                 1306967 non-null object\n",
      "requesting_centra_code                1306967 non-null object\n",
      "executing_center_code                 1306966 non-null object\n",
      "requesting_unit_code                  1306967 non-null int64\n",
      "procedure_code                        1305728 non-null float64\n",
      "description_of_the_procedure_group    724444 non-null object\n",
      "dtypes: float64(3), int64(2), object(12)\n",
      "memory usage: 169.5+ MB\n"
     ]
    }
   ],
   "source": [
    "df.info()"
   ]
  },
  {
   "cell_type": "code",
   "execution_count": 7,
   "metadata": {
    "scrolled": true
   },
   "outputs": [
    {
     "data": {
      "text/html": [
       "<div>\n",
       "<style scoped>\n",
       "    .dataframe tbody tr th:only-of-type {\n",
       "        vertical-align: middle;\n",
       "    }\n",
       "\n",
       "    .dataframe tbody tr th {\n",
       "        vertical-align: top;\n",
       "    }\n",
       "\n",
       "    .dataframe thead th {\n",
       "        text-align: right;\n",
       "    }\n",
       "</style>\n",
       "<table border=\"1\" class=\"dataframe\">\n",
       "  <thead>\n",
       "    <tr style=\"text-align: right;\">\n",
       "      <th></th>\n",
       "      <th>service</th>\n",
       "      <th>regulation_center</th>\n",
       "      <th>city_of_residence</th>\n",
       "      <th>position</th>\n",
       "      <th>average_waiting_days</th>\n",
       "      <th>classification</th>\n",
       "      <th>list_type</th>\n",
       "      <th>document</th>\n",
       "      <th>request_date</th>\n",
       "      <th>name</th>\n",
       "      <th>date_of_birth</th>\n",
       "      <th>procedure_description</th>\n",
       "      <th>requesting_centra_code</th>\n",
       "      <th>executing_center_code</th>\n",
       "      <th>requesting_unit_code</th>\n",
       "      <th>procedure_code</th>\n",
       "      <th>description_of_the_procedure_group</th>\n",
       "    </tr>\n",
       "  </thead>\n",
       "  <tbody>\n",
       "    <tr>\n",
       "      <th>511504</th>\n",
       "      <td>Exame</td>\n",
       "      <td>UNIDADE DE SAUDE SANTA TEREZINHA</td>\n",
       "      <td>BRUSQUE</td>\n",
       "      <td>536</td>\n",
       "      <td>22.0</td>\n",
       "      <td>3 - Verde</td>\n",
       "      <td>Regulada</td>\n",
       "      <td>700203454256529</td>\n",
       "      <td>19/09/2017 15:53:35</td>\n",
       "      <td>A A S</td>\n",
       "      <td>NaN</td>\n",
       "      <td>TESTE SCHIMER</td>\n",
       "      <td>7019815</td>\n",
       "      <td>7019815</td>\n",
       "      <td>2512971</td>\n",
       "      <td>211060216.0</td>\n",
       "      <td>GRUPO - CONSULTA OFTALMOLOGIA (PRIMEIRA CONSUL...</td>\n",
       "    </tr>\n",
       "    <tr>\n",
       "      <th>1070815</th>\n",
       "      <td>Exame</td>\n",
       "      <td>POLICLINICA LINDOLF BELL</td>\n",
       "      <td>BLUMENAU</td>\n",
       "      <td>417</td>\n",
       "      <td>316.0</td>\n",
       "      <td>4 - Azul</td>\n",
       "      <td>Regulada</td>\n",
       "      <td>701807212134274</td>\n",
       "      <td>24/05/2017 09:58:55</td>\n",
       "      <td>N T</td>\n",
       "      <td>NaN</td>\n",
       "      <td>PROVA DE FUNCAO PULMONAR COMPLETA C/ BRONCODIL...</td>\n",
       "      <td>2353654</td>\n",
       "      <td>2353654</td>\n",
       "      <td>2552841</td>\n",
       "      <td>211080055.0</td>\n",
       "      <td>GRUPO - DIAGNOSTICO EM PNEUMOLOGIA</td>\n",
       "    </tr>\n",
       "    <tr>\n",
       "      <th>898572</th>\n",
       "      <td>Exame</td>\n",
       "      <td>SECRETARIA MUNICIPAL DE SAUDE</td>\n",
       "      <td>MONTE CASTELO</td>\n",
       "      <td>65</td>\n",
       "      <td>20.0</td>\n",
       "      <td>4 - Azul</td>\n",
       "      <td>Regulada</td>\n",
       "      <td>704505627386420</td>\n",
       "      <td>23/11/2017 09:43:20</td>\n",
       "      <td>V S</td>\n",
       "      <td>NaN</td>\n",
       "      <td>RESSONANCIA MAGNETICA DE COLUNA LOMBO-SACRA</td>\n",
       "      <td>421110</td>\n",
       "      <td>5993067</td>\n",
       "      <td>6380204</td>\n",
       "      <td>207010048.0</td>\n",
       "      <td>GRUPO - RESSONANCIA MAGNETICA</td>\n",
       "    </tr>\n",
       "    <tr>\n",
       "      <th>563638</th>\n",
       "      <td>Consulta</td>\n",
       "      <td>CENTRO INTEGRADO DE SAUDE NORTE</td>\n",
       "      <td>CHAPECO</td>\n",
       "      <td>8802</td>\n",
       "      <td>58.0</td>\n",
       "      <td>4 - Azul</td>\n",
       "      <td>Regulada</td>\n",
       "      <td>709503647963570</td>\n",
       "      <td>08/11/2017 14:11:32</td>\n",
       "      <td>M J C D S</td>\n",
       "      <td>NaN</td>\n",
       "      <td>CONSULTA EM OFTALMOLOGIA - GERAL</td>\n",
       "      <td>7974671</td>\n",
       "      <td>7974671</td>\n",
       "      <td>2537745</td>\n",
       "      <td>301010072.0</td>\n",
       "      <td>NaN</td>\n",
       "    </tr>\n",
       "    <tr>\n",
       "      <th>453854</th>\n",
       "      <td>Exame</td>\n",
       "      <td>UNIDADE DE SAUDE FAZENDA DA ARMACAO DA PIEDADE</td>\n",
       "      <td>GOVERNADOR CELSO RAMOS</td>\n",
       "      <td>245</td>\n",
       "      <td>96.0</td>\n",
       "      <td>4 - Azul</td>\n",
       "      <td>Regulada</td>\n",
       "      <td>701800277804375</td>\n",
       "      <td>25/08/2017 09:12:21</td>\n",
       "      <td>M A S</td>\n",
       "      <td>NaN</td>\n",
       "      <td>COLESTEROL (HDL)</td>\n",
       "      <td>6372732</td>\n",
       "      <td>6372732</td>\n",
       "      <td>2418878</td>\n",
       "      <td>202010279.0</td>\n",
       "      <td>GRUPO - PATOLOGIA CLINICA (EXAMES DE LABORATORIO)</td>\n",
       "    </tr>\n",
       "    <tr>\n",
       "      <th>1246762</th>\n",
       "      <td>Exame</td>\n",
       "      <td>CENTRO DE SAUDE BELA VISTA</td>\n",
       "      <td>PALHOCA</td>\n",
       "      <td>10655</td>\n",
       "      <td>127.0</td>\n",
       "      <td>4 - Azul</td>\n",
       "      <td>Fila única</td>\n",
       "      <td>702004840064580</td>\n",
       "      <td>30/10/2017 11:29:50</td>\n",
       "      <td>M M A</td>\n",
       "      <td>NaN</td>\n",
       "      <td>TGP</td>\n",
       "      <td>6082351</td>\n",
       "      <td>6939392</td>\n",
       "      <td>2418320</td>\n",
       "      <td>202010651.0</td>\n",
       "      <td>GRUPO - PATOLOGIA CLINICA (EXAMES DE LABORATORIO)</td>\n",
       "    </tr>\n",
       "    <tr>\n",
       "      <th>533877</th>\n",
       "      <td>Exame</td>\n",
       "      <td>UNIDADE DE SAUDE DOM JOAQUIM 2</td>\n",
       "      <td>BRUSQUE</td>\n",
       "      <td>1567</td>\n",
       "      <td>27.0</td>\n",
       "      <td>4 - Azul</td>\n",
       "      <td>Regulada</td>\n",
       "      <td>702007376424882</td>\n",
       "      <td>30/10/2017 14:19:15</td>\n",
       "      <td>M I M S</td>\n",
       "      <td>NaN</td>\n",
       "      <td>ULTRA-SONOGRAFIA  DE ARTICULACAO OMBRO DIREITO</td>\n",
       "      <td>7019815</td>\n",
       "      <td>7019815</td>\n",
       "      <td>7005962</td>\n",
       "      <td>205020062.0</td>\n",
       "      <td>GRUPO - DIAGNOSTICO POR ULTRA-SONOGRAFIA</td>\n",
       "    </tr>\n",
       "    <tr>\n",
       "      <th>477758</th>\n",
       "      <td>Consulta</td>\n",
       "      <td>UNIDADE DE SAUDE STEFFEN</td>\n",
       "      <td>BRUSQUE</td>\n",
       "      <td>607</td>\n",
       "      <td>31.0</td>\n",
       "      <td>4 - Azul</td>\n",
       "      <td>Fila única</td>\n",
       "      <td>700709972809372</td>\n",
       "      <td>25/08/2017 12:55:14</td>\n",
       "      <td>E A D S</td>\n",
       "      <td>NaN</td>\n",
       "      <td>CONSULTA EM ORTOPEDIA - GERAL</td>\n",
       "      <td>7019815</td>\n",
       "      <td>7019815</td>\n",
       "      <td>2513633</td>\n",
       "      <td>301010072.0</td>\n",
       "      <td>NaN</td>\n",
       "    </tr>\n",
       "    <tr>\n",
       "      <th>321988</th>\n",
       "      <td>Exame</td>\n",
       "      <td>CENTRO DE SAUDE MADRI</td>\n",
       "      <td>PALHOCA</td>\n",
       "      <td>12161</td>\n",
       "      <td>134.0</td>\n",
       "      <td>4 - Azul</td>\n",
       "      <td>Fila única</td>\n",
       "      <td>707004860980931</td>\n",
       "      <td>27/10/2017 14:04:48</td>\n",
       "      <td>P C D A E S</td>\n",
       "      <td>NaN</td>\n",
       "      <td>TIROXINA LIVRE (T4 LIVRE)</td>\n",
       "      <td>421190</td>\n",
       "      <td>6082351</td>\n",
       "      <td>2418339</td>\n",
       "      <td>202060381.0</td>\n",
       "      <td>GRUPO - PATOLOGIA CLINICA (EXAMES DE LABORATORIO)</td>\n",
       "    </tr>\n",
       "    <tr>\n",
       "      <th>43208</th>\n",
       "      <td>Consulta</td>\n",
       "      <td>UNIDADE BASICA DE SAUDE PSF METROPOL</td>\n",
       "      <td>CRICIUMA</td>\n",
       "      <td>30</td>\n",
       "      <td>37.0</td>\n",
       "      <td>4 - Azul</td>\n",
       "      <td>Regulada</td>\n",
       "      <td>700008990466703</td>\n",
       "      <td>30/10/2017 15:40:45</td>\n",
       "      <td>R L V</td>\n",
       "      <td>NaN</td>\n",
       "      <td>CONSULTA EM HEMATOLOGIA - ONCOLOGIA</td>\n",
       "      <td>7937547</td>\n",
       "      <td>7937547</td>\n",
       "      <td>2647303</td>\n",
       "      <td>301010072.0</td>\n",
       "      <td>NaN</td>\n",
       "    </tr>\n",
       "  </tbody>\n",
       "</table>\n",
       "</div>"
      ],
      "text/plain": [
       "          service                               regulation_center  \\\n",
       "511504      Exame                UNIDADE DE SAUDE SANTA TEREZINHA   \n",
       "1070815     Exame                        POLICLINICA LINDOLF BELL   \n",
       "898572      Exame                   SECRETARIA MUNICIPAL DE SAUDE   \n",
       "563638   Consulta                 CENTRO INTEGRADO DE SAUDE NORTE   \n",
       "453854      Exame  UNIDADE DE SAUDE FAZENDA DA ARMACAO DA PIEDADE   \n",
       "1246762     Exame                      CENTRO DE SAUDE BELA VISTA   \n",
       "533877      Exame                  UNIDADE DE SAUDE DOM JOAQUIM 2   \n",
       "477758   Consulta                        UNIDADE DE SAUDE STEFFEN   \n",
       "321988      Exame                           CENTRO DE SAUDE MADRI   \n",
       "43208    Consulta            UNIDADE BASICA DE SAUDE PSF METROPOL   \n",
       "\n",
       "              city_of_residence  position  average_waiting_days  \\\n",
       "511504                  BRUSQUE       536                  22.0   \n",
       "1070815                BLUMENAU       417                 316.0   \n",
       "898572            MONTE CASTELO        65                  20.0   \n",
       "563638                  CHAPECO      8802                  58.0   \n",
       "453854   GOVERNADOR CELSO RAMOS       245                  96.0   \n",
       "1246762                 PALHOCA     10655                 127.0   \n",
       "533877                  BRUSQUE      1567                  27.0   \n",
       "477758                  BRUSQUE       607                  31.0   \n",
       "321988                  PALHOCA     12161                 134.0   \n",
       "43208                  CRICIUMA        30                  37.0   \n",
       "\n",
       "        classification   list_type         document         request_date  \\\n",
       "511504       3 - Verde    Regulada  700203454256529  19/09/2017 15:53:35   \n",
       "1070815       4 - Azul    Regulada  701807212134274  24/05/2017 09:58:55   \n",
       "898572        4 - Azul    Regulada  704505627386420  23/11/2017 09:43:20   \n",
       "563638        4 - Azul    Regulada  709503647963570  08/11/2017 14:11:32   \n",
       "453854        4 - Azul    Regulada  701800277804375  25/08/2017 09:12:21   \n",
       "1246762       4 - Azul  Fila única  702004840064580  30/10/2017 11:29:50   \n",
       "533877        4 - Azul    Regulada  702007376424882  30/10/2017 14:19:15   \n",
       "477758        4 - Azul  Fila única  700709972809372  25/08/2017 12:55:14   \n",
       "321988        4 - Azul  Fila única  707004860980931  27/10/2017 14:04:48   \n",
       "43208         4 - Azul    Regulada  700008990466703  30/10/2017 15:40:45   \n",
       "\n",
       "                name  date_of_birth  \\\n",
       "511504         A A S            NaN   \n",
       "1070815          N T            NaN   \n",
       "898572           V S            NaN   \n",
       "563638     M J C D S            NaN   \n",
       "453854         M A S            NaN   \n",
       "1246762        M M A            NaN   \n",
       "533877       M I M S            NaN   \n",
       "477758       E A D S            NaN   \n",
       "321988   P C D A E S            NaN   \n",
       "43208          R L V            NaN   \n",
       "\n",
       "                                     procedure_description  \\\n",
       "511504                                       TESTE SCHIMER   \n",
       "1070815  PROVA DE FUNCAO PULMONAR COMPLETA C/ BRONCODIL...   \n",
       "898572         RESSONANCIA MAGNETICA DE COLUNA LOMBO-SACRA   \n",
       "563638                    CONSULTA EM OFTALMOLOGIA - GERAL   \n",
       "453854                                    COLESTEROL (HDL)   \n",
       "1246762                                                TGP   \n",
       "533877      ULTRA-SONOGRAFIA  DE ARTICULACAO OMBRO DIREITO   \n",
       "477758                       CONSULTA EM ORTOPEDIA - GERAL   \n",
       "321988                           TIROXINA LIVRE (T4 LIVRE)   \n",
       "43208                  CONSULTA EM HEMATOLOGIA - ONCOLOGIA   \n",
       "\n",
       "        requesting_centra_code executing_center_code  requesting_unit_code  \\\n",
       "511504                 7019815               7019815               2512971   \n",
       "1070815                2353654               2353654               2552841   \n",
       "898572                  421110               5993067               6380204   \n",
       "563638                 7974671               7974671               2537745   \n",
       "453854                 6372732               6372732               2418878   \n",
       "1246762                6082351               6939392               2418320   \n",
       "533877                 7019815               7019815               7005962   \n",
       "477758                 7019815               7019815               2513633   \n",
       "321988                  421190               6082351               2418339   \n",
       "43208                  7937547               7937547               2647303   \n",
       "\n",
       "         procedure_code                 description_of_the_procedure_group  \n",
       "511504      211060216.0  GRUPO - CONSULTA OFTALMOLOGIA (PRIMEIRA CONSUL...  \n",
       "1070815     211080055.0                 GRUPO - DIAGNOSTICO EM PNEUMOLOGIA  \n",
       "898572      207010048.0                      GRUPO - RESSONANCIA MAGNETICA  \n",
       "563638      301010072.0                                                NaN  \n",
       "453854      202010279.0  GRUPO - PATOLOGIA CLINICA (EXAMES DE LABORATORIO)  \n",
       "1246762     202010651.0  GRUPO - PATOLOGIA CLINICA (EXAMES DE LABORATORIO)  \n",
       "533877      205020062.0           GRUPO - DIAGNOSTICO POR ULTRA-SONOGRAFIA  \n",
       "477758      301010072.0                                                NaN  \n",
       "321988      202060381.0  GRUPO - PATOLOGIA CLINICA (EXAMES DE LABORATORIO)  \n",
       "43208       301010072.0                                                NaN  "
      ]
     },
     "execution_count": 7,
     "metadata": {},
     "output_type": "execute_result"
    }
   ],
   "source": [
    "df.sample(10)"
   ]
  },
  {
   "cell_type": "markdown",
   "metadata": {},
   "source": [
    "# requested services by city"
   ]
  },
  {
   "cell_type": "code",
   "execution_count": 8,
   "metadata": {},
   "outputs": [
    {
     "data": {
      "text/plain": [
       "<matplotlib.axes._subplots.AxesSubplot at 0x7f420c9f7b38>"
      ]
     },
     "execution_count": 8,
     "metadata": {},
     "output_type": "execute_result"
    },
    {
     "data": {
      "image/png": "[encoded data removed]",
      "text/plain": [
       "<Figure size 720x360 with 1 Axes>"
      ]
     },
     "metadata": {
      "needs_background": "light"
     },
     "output_type": "display_data"
    }
   ],
   "source": [
    "df.service.value_counts().plot(kind='barh', figsize=(10, 5))"
   ]
  },
  {
   "cell_type": "markdown",
   "metadata": {},
   "source": [
    "\"Palhoça\" is the most frequent city in queue:"
   ]
  },
  {
   "cell_type": "code",
   "execution_count": 9,
   "metadata": {},
   "outputs": [
    {
     "data": {
      "text/plain": [
       "<matplotlib.axes._subplots.AxesSubplot at 0x7f420c9d6d68>"
      ]
     },
     "execution_count": 9,
     "metadata": {},
     "output_type": "execute_result"
    },
    {
     "data": {
      "image/png": "[encoded data removed]",
      "text/plain": [
       "<Figure size 720x720 with 1 Axes>"
      ]
     },
     "metadata": {
      "needs_background": "light"
     },
     "output_type": "display_data"
    }
   ],
   "source": [
    "df.city_of_residence.value_counts().head(20).plot(kind='barh', figsize=(10,10))"
   ]
  },
  {
   "cell_type": "markdown",
   "metadata": {},
   "source": [
    "Separating by \"service\", it is clear that the peak of Palhoça is in the exams:"
   ]
  },
  {
   "cell_type": "code",
   "execution_count": 10,
   "metadata": {},
   "outputs": [
    {
     "data": {
      "text/plain": [
       "<matplotlib.axes._subplots.AxesSubplot at 0x7f420c8ff5c0>"
      ]
     },
     "execution_count": 10,
     "metadata": {},
     "output_type": "execute_result"
    },
    {
     "data": {
      "image/png": "[encoded data removed]",
      "text/plain": [
       "<Figure size 720x360 with 1 Axes>"
      ]
     },
     "metadata": {
      "needs_background": "light"
     },
     "output_type": "display_data"
    }
   ],
   "source": [
    "df.query('service == \"Exame\"').city_of_residence.value_counts().head().plot(kind='barh', figsize=(10, 5))"
   ]
  },
  {
   "cell_type": "code",
   "execution_count": 11,
   "metadata": {},
   "outputs": [
    {
     "data": {
      "text/plain": [
       "<matplotlib.axes._subplots.AxesSubplot at 0x7f420c8e4cf8>"
      ]
     },
     "execution_count": 11,
     "metadata": {},
     "output_type": "execute_result"
    },
    {
     "data": {
      "image/png": "[encoded data removed]",
      "text/plain": [
       "<Figure size 432x288 with 1 Axes>"
      ]
     },
     "metadata": {
      "needs_background": "light"
     },
     "output_type": "display_data"
    }
   ],
   "source": [
    "df.query('service == \"Consulta\"').city_of_residence.value_counts().head().plot(kind='barh')"
   ]
  },
  {
   "cell_type": "code",
   "execution_count": 12,
   "metadata": {},
   "outputs": [
    {
     "data": {
      "text/plain": [
       "<matplotlib.axes._subplots.AxesSubplot at 0x7f420c88c6d8>"
      ]
     },
     "execution_count": 12,
     "metadata": {},
     "output_type": "execute_result"
    },
    {
     "data": {
      "image/png": "[encoded data removed]",
      "text/plain": [
       "<Figure size 432x288 with 1 Axes>"
      ]
     },
     "metadata": {
      "needs_background": "light"
     },
     "output_type": "display_data"
    }
   ],
   "source": [
    "df.query('service == \"Cirurgia eletiva\"').city_of_residence.value_counts().head(10).plot(kind='barh')"
   ]
  },
  {
   "cell_type": "markdown",
   "metadata": {},
   "source": [
    "# average exams per patient and city"
   ]
  },
  {
   "cell_type": "markdown",
   "metadata": {},
   "source": [
    "Let's compare the number os exams by patient in Palhoça and other cities.\n",
    "\n",
    "Palhoça has between 3 and 5x more exams per patient on average than other cities with high number of exams requested:"
   ]
  },
  {
   "cell_type": "code",
   "execution_count": 13,
   "metadata": {},
   "outputs": [
    {
     "data": {
      "text/plain": [
       "count    31797.000000\n",
       "mean        10.941693\n",
       "std         12.505739\n",
       "min          1.000000\n",
       "25%          2.000000\n",
       "50%          4.000000\n",
       "75%         18.000000\n",
       "max         90.000000\n",
       "Name: document, dtype: float64"
      ]
     },
     "execution_count": 13,
     "metadata": {},
     "output_type": "execute_result"
    }
   ],
   "source": [
    "df.query('service == \"Exame\" and city_of_residence == \"PALHOCA\"').document.value_counts().describe()"
   ]
  },
  {
   "cell_type": "code",
   "execution_count": 14,
   "metadata": {},
   "outputs": [
    {
     "data": {
      "text/plain": [
       "count    54560.000000\n",
       "mean         1.878611\n",
       "std          1.901741\n",
       "min          1.000000\n",
       "25%          1.000000\n",
       "50%          1.000000\n",
       "75%          2.000000\n",
       "max         35.000000\n",
       "Name: document, dtype: float64"
      ]
     },
     "execution_count": 14,
     "metadata": {},
     "output_type": "execute_result"
    }
   ],
   "source": [
    "df.query('service == \"Exame\" and city_of_residence == \"SAO JOSE\"').document.value_counts().describe()"
   ]
  },
  {
   "cell_type": "code",
   "execution_count": 15,
   "metadata": {},
   "outputs": [
    {
     "data": {
      "text/plain": [
       "count    20505.000000\n",
       "mean         2.807949\n",
       "std          2.959257\n",
       "min          1.000000\n",
       "25%          1.000000\n",
       "50%          2.000000\n",
       "75%          4.000000\n",
       "max         35.000000\n",
       "Name: document, dtype: float64"
      ]
     },
     "execution_count": 15,
     "metadata": {},
     "output_type": "execute_result"
    }
   ],
   "source": [
    "df.query('service == \"Exame\" and city_of_residence == \"BLUMENAU\"').document.value_counts().describe()"
   ]
  },
  {
   "cell_type": "code",
   "execution_count": 16,
   "metadata": {},
   "outputs": [
    {
     "data": {
      "text/plain": [
       "count    18393.000000\n",
       "mean         3.030338\n",
       "std          3.800691\n",
       "min          1.000000\n",
       "25%          1.000000\n",
       "50%          2.000000\n",
       "75%          3.000000\n",
       "max         37.000000\n",
       "Name: document, dtype: float64"
      ]
     },
     "execution_count": 16,
     "metadata": {},
     "output_type": "execute_result"
    }
   ],
   "source": [
    "df.query('service == \"Exame\" and city_of_residence == \"BIGUACU\"').document.value_counts().describe()"
   ]
  },
  {
   "cell_type": "code",
   "execution_count": 17,
   "metadata": {},
   "outputs": [
    {
     "data": {
      "text/plain": [
       "count    28094.000000\n",
       "mean         1.632769\n",
       "std          1.789597\n",
       "min          1.000000\n",
       "25%          1.000000\n",
       "50%          1.000000\n",
       "75%          2.000000\n",
       "max         36.000000\n",
       "Name: document, dtype: float64"
      ]
     },
     "execution_count": 17,
     "metadata": {},
     "output_type": "execute_result"
    }
   ],
   "source": [
    "df.query('service == \"Exame\" and city_of_residence == \"FLORIANOPOLIS\"').document.value_counts().describe()"
   ]
  },
  {
   "cell_type": "markdown",
   "metadata": {},
   "source": [
    "# patients with many exams"
   ]
  },
  {
   "cell_type": "markdown",
   "metadata": {},
   "source": [
    "Looking a little deeper, let's check some patients with more exams requested:"
   ]
  },
  {
   "cell_type": "code",
   "execution_count": 18,
   "metadata": {
    "scrolled": true
   },
   "outputs": [
    {
     "data": {
      "text/plain": [
       "704207709501384    90\n",
       "700603418445267    80\n",
       "700000291920300    80\n",
       "700505394201153    78\n",
       "702005327186289    77\n",
       "707507227682290    75\n",
       "700000481327406    73\n",
       "705009265166954    72\n",
       "702505393010938    72\n",
       "704300595817291    71\n",
       "700401459979541    71\n",
       "700000538700909    70\n",
       "708402202548668    70\n",
       "708507058823680    70\n",
       "706209092555063    70\n",
       "Name: document, dtype: int64"
      ]
     },
     "execution_count": 18,
     "metadata": {},
     "output_type": "execute_result"
    }
   ],
   "source": [
    "df.query('service == \"Exame\" and city_of_residence == \"PALHOCA\"').document.value_counts().head(15)"
   ]
  },
  {
   "cell_type": "markdown",
   "metadata": {},
   "source": [
    "Requests happen at the same timestamp, possibly indicating a system bug. Exams enter the queue of different performing centers:"
   ]
  },
  {
   "cell_type": "code",
   "execution_count": 19,
   "metadata": {},
   "outputs": [
    {
     "data": {
      "text/html": [
       "<div>\n",
       "<style scoped>\n",
       "    .dataframe tbody tr th:only-of-type {\n",
       "        vertical-align: middle;\n",
       "    }\n",
       "\n",
       "    .dataframe tbody tr th {\n",
       "        vertical-align: top;\n",
       "    }\n",
       "\n",
       "    .dataframe thead th {\n",
       "        text-align: right;\n",
       "    }\n",
       "</style>\n",
       "<table border=\"1\" class=\"dataframe\">\n",
       "  <thead>\n",
       "    <tr style=\"text-align: right;\">\n",
       "      <th></th>\n",
       "      <th>procedure_description</th>\n",
       "      <th>request_date</th>\n",
       "      <th>regulation_center</th>\n",
       "      <th>position</th>\n",
       "      <th>executing_center_code</th>\n",
       "      <th>requesting_unit_code</th>\n",
       "    </tr>\n",
       "  </thead>\n",
       "  <tbody>\n",
       "    <tr>\n",
       "      <th>264552</th>\n",
       "      <td>25 HIDROXIVITAMINA D (25 OHD)</td>\n",
       "      <td>23/08/2017 11:07:41</td>\n",
       "      <td>CENTRO DE SAUDE VILA NOVA</td>\n",
       "      <td>6519</td>\n",
       "      <td>6082351</td>\n",
       "      <td>7124619</td>\n",
       "    </tr>\n",
       "    <tr>\n",
       "      <th>1189115</th>\n",
       "      <td>25 HIDROXIVITAMINA D (25 OHD)</td>\n",
       "      <td>23/08/2017 11:07:41</td>\n",
       "      <td>CENTRO DE SAUDE VILA NOVA</td>\n",
       "      <td>4990</td>\n",
       "      <td>6939392</td>\n",
       "      <td>7124619</td>\n",
       "    </tr>\n",
       "    <tr>\n",
       "      <th>300253</th>\n",
       "      <td>ACIDO FOLICO</td>\n",
       "      <td>29/09/2017 13:13:39</td>\n",
       "      <td>CENTRO DE SAUDE VILA NOVA</td>\n",
       "      <td>10017</td>\n",
       "      <td>6082351</td>\n",
       "      <td>7124619</td>\n",
       "    </tr>\n",
       "    <tr>\n",
       "      <th>1224544</th>\n",
       "      <td>ACIDO FOLICO</td>\n",
       "      <td>29/09/2017 13:13:39</td>\n",
       "      <td>CENTRO DE SAUDE VILA NOVA</td>\n",
       "      <td>8466</td>\n",
       "      <td>6939392</td>\n",
       "      <td>7124619</td>\n",
       "    </tr>\n",
       "    <tr>\n",
       "      <th>264515</th>\n",
       "      <td>ACIDO URICO</td>\n",
       "      <td>23/08/2017 11:06:38</td>\n",
       "      <td>CENTRO DE SAUDE VILA NOVA</td>\n",
       "      <td>6515</td>\n",
       "      <td>6082351</td>\n",
       "      <td>7124619</td>\n",
       "    </tr>\n",
       "    <tr>\n",
       "      <th>1189078</th>\n",
       "      <td>ACIDO URICO</td>\n",
       "      <td>23/08/2017 11:06:38</td>\n",
       "      <td>CENTRO DE SAUDE VILA NOVA</td>\n",
       "      <td>4986</td>\n",
       "      <td>6939392</td>\n",
       "      <td>7124619</td>\n",
       "    </tr>\n",
       "    <tr>\n",
       "      <th>1189079</th>\n",
       "      <td>ANTIBIOGRAMA</td>\n",
       "      <td>23/08/2017 11:06:38</td>\n",
       "      <td>CENTRO DE SAUDE VILA NOVA</td>\n",
       "      <td>4986</td>\n",
       "      <td>6939392</td>\n",
       "      <td>7124619</td>\n",
       "    </tr>\n",
       "    <tr>\n",
       "      <th>264516</th>\n",
       "      <td>ANTIBIOGRAMA</td>\n",
       "      <td>23/08/2017 11:06:38</td>\n",
       "      <td>CENTRO DE SAUDE VILA NOVA</td>\n",
       "      <td>6515</td>\n",
       "      <td>6082351</td>\n",
       "      <td>7124619</td>\n",
       "    </tr>\n",
       "    <tr>\n",
       "      <th>300254</th>\n",
       "      <td>ANTIPEROXIDASE /ANTI TPO</td>\n",
       "      <td>29/09/2017 13:13:39</td>\n",
       "      <td>CENTRO DE SAUDE VILA NOVA</td>\n",
       "      <td>10017</td>\n",
       "      <td>6082351</td>\n",
       "      <td>7124619</td>\n",
       "    </tr>\n",
       "    <tr>\n",
       "      <th>1224545</th>\n",
       "      <td>ANTIPEROXIDASE /ANTI TPO</td>\n",
       "      <td>29/09/2017 13:13:39</td>\n",
       "      <td>CENTRO DE SAUDE VILA NOVA</td>\n",
       "      <td>8466</td>\n",
       "      <td>6939392</td>\n",
       "      <td>7124619</td>\n",
       "    </tr>\n",
       "  </tbody>\n",
       "</table>\n",
       "</div>"
      ],
      "text/plain": [
       "                 procedure_description         request_date  \\\n",
       "264552   25 HIDROXIVITAMINA D (25 OHD)  23/08/2017 11:07:41   \n",
       "1189115  25 HIDROXIVITAMINA D (25 OHD)  23/08/2017 11:07:41   \n",
       "300253                    ACIDO FOLICO  29/09/2017 13:13:39   \n",
       "1224544                   ACIDO FOLICO  29/09/2017 13:13:39   \n",
       "264515                     ACIDO URICO  23/08/2017 11:06:38   \n",
       "1189078                    ACIDO URICO  23/08/2017 11:06:38   \n",
       "1189079                   ANTIBIOGRAMA  23/08/2017 11:06:38   \n",
       "264516                    ANTIBIOGRAMA  23/08/2017 11:06:38   \n",
       "300254        ANTIPEROXIDASE /ANTI TPO  29/09/2017 13:13:39   \n",
       "1224545       ANTIPEROXIDASE /ANTI TPO  29/09/2017 13:13:39   \n",
       "\n",
       "                 regulation_center  position executing_center_code  \\\n",
       "264552   CENTRO DE SAUDE VILA NOVA      6519               6082351   \n",
       "1189115  CENTRO DE SAUDE VILA NOVA      4990               6939392   \n",
       "300253   CENTRO DE SAUDE VILA NOVA     10017               6082351   \n",
       "1224544  CENTRO DE SAUDE VILA NOVA      8466               6939392   \n",
       "264515   CENTRO DE SAUDE VILA NOVA      6515               6082351   \n",
       "1189078  CENTRO DE SAUDE VILA NOVA      4986               6939392   \n",
       "1189079  CENTRO DE SAUDE VILA NOVA      4986               6939392   \n",
       "264516   CENTRO DE SAUDE VILA NOVA      6515               6082351   \n",
       "300254   CENTRO DE SAUDE VILA NOVA     10017               6082351   \n",
       "1224545  CENTRO DE SAUDE VILA NOVA      8466               6939392   \n",
       "\n",
       "         requesting_unit_code  \n",
       "264552                7124619  \n",
       "1189115               7124619  \n",
       "300253                7124619  \n",
       "1224544               7124619  \n",
       "264515                7124619  \n",
       "1189078               7124619  \n",
       "1189079               7124619  \n",
       "264516                7124619  \n",
       "300254                7124619  \n",
       "1224545               7124619  "
      ]
     },
     "execution_count": 19,
     "metadata": {},
     "output_type": "execute_result"
    }
   ],
   "source": [
    "(\n",
    "    df\n",
    "    .query('document == 704207709501384')\n",
    "    [['procedure_description','request_date', 'regulation_center', \n",
    "      'position', 'executing_center_code', 'requesting_unit_code']]\n",
    "    .sort_values(by='procedure_description')\n",
    "    .head(10)\n",
    ")"
   ]
  },
  {
   "cell_type": "code",
   "execution_count": 20,
   "metadata": {},
   "outputs": [
    {
     "data": {
      "text/html": [
       "<div>\n",
       "<style scoped>\n",
       "    .dataframe tbody tr th:only-of-type {\n",
       "        vertical-align: middle;\n",
       "    }\n",
       "\n",
       "    .dataframe tbody tr th {\n",
       "        vertical-align: top;\n",
       "    }\n",
       "\n",
       "    .dataframe thead th {\n",
       "        text-align: right;\n",
       "    }\n",
       "</style>\n",
       "<table border=\"1\" class=\"dataframe\">\n",
       "  <thead>\n",
       "    <tr style=\"text-align: right;\">\n",
       "      <th></th>\n",
       "      <th>procedure_description</th>\n",
       "      <th>request_date</th>\n",
       "      <th>regulation_center</th>\n",
       "      <th>position</th>\n",
       "      <th>executing_center_code</th>\n",
       "      <th>requesting_unit_code</th>\n",
       "    </tr>\n",
       "  </thead>\n",
       "  <tbody>\n",
       "    <tr>\n",
       "      <th>194548</th>\n",
       "      <td>25 HIDROXIVITAMINA D (25 OHD)</td>\n",
       "      <td>18/04/2017 17:04:52</td>\n",
       "      <td>CEAP CENTRO ESPECIALIZADO EM ACONSELHAMENTO E ...</td>\n",
       "      <td>339</td>\n",
       "      <td>6082351</td>\n",
       "      <td>5969018</td>\n",
       "    </tr>\n",
       "    <tr>\n",
       "      <th>1134084</th>\n",
       "      <td>25 HIDROXIVITAMINA D (25 OHD)</td>\n",
       "      <td>18/04/2017 17:04:52</td>\n",
       "      <td>CEAP CENTRO ESPECIALIZADO EM ACONSELHAMENTO E ...</td>\n",
       "      <td>295</td>\n",
       "      <td>6939392</td>\n",
       "      <td>5969018</td>\n",
       "    </tr>\n",
       "    <tr>\n",
       "      <th>194549</th>\n",
       "      <td>ACIDO URICO</td>\n",
       "      <td>18/04/2017 17:04:52</td>\n",
       "      <td>CEAP CENTRO ESPECIALIZADO EM ACONSELHAMENTO E ...</td>\n",
       "      <td>339</td>\n",
       "      <td>6082351</td>\n",
       "      <td>5969018</td>\n",
       "    </tr>\n",
       "    <tr>\n",
       "      <th>1134085</th>\n",
       "      <td>ACIDO URICO</td>\n",
       "      <td>18/04/2017 17:04:52</td>\n",
       "      <td>CEAP CENTRO ESPECIALIZADO EM ACONSELHAMENTO E ...</td>\n",
       "      <td>295</td>\n",
       "      <td>6939392</td>\n",
       "      <td>5969018</td>\n",
       "    </tr>\n",
       "    <tr>\n",
       "      <th>194550</th>\n",
       "      <td>AMILASE</td>\n",
       "      <td>18/04/2017 17:04:52</td>\n",
       "      <td>CEAP CENTRO ESPECIALIZADO EM ACONSELHAMENTO E ...</td>\n",
       "      <td>339</td>\n",
       "      <td>6082351</td>\n",
       "      <td>5969018</td>\n",
       "    </tr>\n",
       "    <tr>\n",
       "      <th>1134086</th>\n",
       "      <td>AMILASE</td>\n",
       "      <td>18/04/2017 17:04:52</td>\n",
       "      <td>CEAP CENTRO ESPECIALIZADO EM ACONSELHAMENTO E ...</td>\n",
       "      <td>295</td>\n",
       "      <td>6939392</td>\n",
       "      <td>5969018</td>\n",
       "    </tr>\n",
       "    <tr>\n",
       "      <th>1134105</th>\n",
       "      <td>ANTI HBC - IGG ANTICORPOS IGG CONTRA ANTIGENO ...</td>\n",
       "      <td>18/04/2017 17:27:57</td>\n",
       "      <td>CEAP CENTRO ESPECIALIZADO EM ACONSELHAMENTO E ...</td>\n",
       "      <td>296</td>\n",
       "      <td>6939392</td>\n",
       "      <td>5969018</td>\n",
       "    </tr>\n",
       "    <tr>\n",
       "      <th>194569</th>\n",
       "      <td>ANTI HBC - IGG ANTICORPOS IGG CONTRA ANTIGENO ...</td>\n",
       "      <td>18/04/2017 17:27:57</td>\n",
       "      <td>CEAP CENTRO ESPECIALIZADO EM ACONSELHAMENTO E ...</td>\n",
       "      <td>340</td>\n",
       "      <td>6082351</td>\n",
       "      <td>5969018</td>\n",
       "    </tr>\n",
       "    <tr>\n",
       "      <th>1134106</th>\n",
       "      <td>ANTI HBC - IGM ANTICORPOS IGM CONTRA ANTIGENO ...</td>\n",
       "      <td>18/04/2017 17:27:57</td>\n",
       "      <td>CEAP CENTRO ESPECIALIZADO EM ACONSELHAMENTO E ...</td>\n",
       "      <td>296</td>\n",
       "      <td>6939392</td>\n",
       "      <td>5969018</td>\n",
       "    </tr>\n",
       "    <tr>\n",
       "      <th>194570</th>\n",
       "      <td>ANTI HBC - IGM ANTICORPOS IGM CONTRA ANTIGENO ...</td>\n",
       "      <td>18/04/2017 17:27:57</td>\n",
       "      <td>CEAP CENTRO ESPECIALIZADO EM ACONSELHAMENTO E ...</td>\n",
       "      <td>340</td>\n",
       "      <td>6082351</td>\n",
       "      <td>5969018</td>\n",
       "    </tr>\n",
       "  </tbody>\n",
       "</table>\n",
       "</div>"
      ],
      "text/plain": [
       "                                     procedure_description  \\\n",
       "194548                       25 HIDROXIVITAMINA D (25 OHD)   \n",
       "1134084                      25 HIDROXIVITAMINA D (25 OHD)   \n",
       "194549                                         ACIDO URICO   \n",
       "1134085                                        ACIDO URICO   \n",
       "194550                                             AMILASE   \n",
       "1134086                                            AMILASE   \n",
       "1134105  ANTI HBC - IGG ANTICORPOS IGG CONTRA ANTIGENO ...   \n",
       "194569   ANTI HBC - IGG ANTICORPOS IGG CONTRA ANTIGENO ...   \n",
       "1134106  ANTI HBC - IGM ANTICORPOS IGM CONTRA ANTIGENO ...   \n",
       "194570   ANTI HBC - IGM ANTICORPOS IGM CONTRA ANTIGENO ...   \n",
       "\n",
       "                request_date  \\\n",
       "194548   18/04/2017 17:04:52   \n",
       "1134084  18/04/2017 17:04:52   \n",
       "194549   18/04/2017 17:04:52   \n",
       "1134085  18/04/2017 17:04:52   \n",
       "194550   18/04/2017 17:04:52   \n",
       "1134086  18/04/2017 17:04:52   \n",
       "1134105  18/04/2017 17:27:57   \n",
       "194569   18/04/2017 17:27:57   \n",
       "1134106  18/04/2017 17:27:57   \n",
       "194570   18/04/2017 17:27:57   \n",
       "\n",
       "                                         regulation_center  position  \\\n",
       "194548   CEAP CENTRO ESPECIALIZADO EM ACONSELHAMENTO E ...       339   \n",
       "1134084  CEAP CENTRO ESPECIALIZADO EM ACONSELHAMENTO E ...       295   \n",
       "194549   CEAP CENTRO ESPECIALIZADO EM ACONSELHAMENTO E ...       339   \n",
       "1134085  CEAP CENTRO ESPECIALIZADO EM ACONSELHAMENTO E ...       295   \n",
       "194550   CEAP CENTRO ESPECIALIZADO EM ACONSELHAMENTO E ...       339   \n",
       "1134086  CEAP CENTRO ESPECIALIZADO EM ACONSELHAMENTO E ...       295   \n",
       "1134105  CEAP CENTRO ESPECIALIZADO EM ACONSELHAMENTO E ...       296   \n",
       "194569   CEAP CENTRO ESPECIALIZADO EM ACONSELHAMENTO E ...       340   \n",
       "1134106  CEAP CENTRO ESPECIALIZADO EM ACONSELHAMENTO E ...       296   \n",
       "194570   CEAP CENTRO ESPECIALIZADO EM ACONSELHAMENTO E ...       340   \n",
       "\n",
       "        executing_center_code  requesting_unit_code  \n",
       "194548                6082351               5969018  \n",
       "1134084               6939392               5969018  \n",
       "194549                6082351               5969018  \n",
       "1134085               6939392               5969018  \n",
       "194550                6082351               5969018  \n",
       "1134086               6939392               5969018  \n",
       "1134105               6939392               5969018  \n",
       "194569                6082351               5969018  \n",
       "1134106               6939392               5969018  \n",
       "194570                6082351               5969018  "
      ]
     },
     "execution_count": 20,
     "metadata": {},
     "output_type": "execute_result"
    }
   ],
   "source": [
    "(\n",
    "    df\n",
    "    .query('document == 700603418445267')\n",
    "    [['procedure_description','request_date', 'regulation_center', \n",
    "      'position', 'executing_center_code', 'requesting_unit_code']]\n",
    "    .sort_values(by='procedure_description')\n",
    "    .head(10)\n",
    ")"
   ]
  },
  {
   "cell_type": "markdown",
   "metadata": {},
   "source": [
    "# quantifying duplication"
   ]
  },
  {
   "cell_type": "markdown",
   "metadata": {},
   "source": [
    "If we removed all duplicates, the queue would have a 17% reduction in records (20% exams, 11% consultations and 1% surgeries)."
   ]
  },
  {
   "cell_type": "code",
   "execution_count": 21,
   "metadata": {},
   "outputs": [],
   "source": [
    "def deduplicate_stats(query=None):\n",
    "    if query:\n",
    "        df_tmp = df.query(query)\n",
    "    else:\n",
    "        df_tmp = df\n",
    "    total_rows = len(df_tmp)\n",
    "    unique_rows = len(df_tmp.groupby(['document', 'procedure_description']))\n",
    "    unique_rows_same_date = len(df_tmp.groupby(['document', 'procedure_description', 'request_date']))\n",
    "    reducao_fila = (total_rows - unique_rows) / total_rows\n",
    "    print('           records in queue:', total_rows)\n",
    "    print('    unique records in queue:', unique_rows)\n",
    "    print('         duplicated (total):', total_rows - unique_rows)\n",
    "    print('duplicates (same timestamp):', total_rows - unique_rows_same_date)\n",
    "    print('             queue decrease:', int(100 * reducao_fila), '%')"
   ]
  },
  {
   "cell_type": "code",
   "execution_count": 22,
   "metadata": {},
   "outputs": [
    {
     "name": "stdout",
     "output_type": "stream",
     "text": [
      "           records in queue: 1306967\n",
      "    unique records in queue: 1080625\n",
      "         duplicated (total): 226342\n",
      "duplicates (same timestamp): 222124\n",
      "             queue decrease: 17 %\n"
     ]
    }
   ],
   "source": [
    "deduplicate_stats()"
   ]
  },
  {
   "cell_type": "code",
   "execution_count": 23,
   "metadata": {},
   "outputs": [
    {
     "name": "stdout",
     "output_type": "stream",
     "text": [
      "           records in queue: 832611\n",
      "    unique records in queue: 658907\n",
      "         duplicated (total): 173704\n",
      "duplicates (same timestamp): 171493\n",
      "             queue decrease: 20 %\n"
     ]
    }
   ],
   "source": [
    "deduplicate_stats('service == \"Exame\"')"
   ]
  },
  {
   "cell_type": "code",
   "execution_count": 24,
   "metadata": {},
   "outputs": [
    {
     "name": "stdout",
     "output_type": "stream",
     "text": [
      "           records in queue: 451122\n",
      "    unique records in queue: 398828\n",
      "         duplicated (total): 52294\n",
      "duplicates (same timestamp): 50405\n",
      "             queue decrease: 11 %\n"
     ]
    }
   ],
   "source": [
    "deduplicate_stats('service == \"Consulta\"')"
   ]
  },
  {
   "cell_type": "code",
   "execution_count": 25,
   "metadata": {},
   "outputs": [
    {
     "name": "stdout",
     "output_type": "stream",
     "text": [
      "           records in queue: 23234\n",
      "    unique records in queue: 22890\n",
      "         duplicated (total): 344\n",
      "duplicates (same timestamp): 226\n",
      "             queue decrease: 1 %\n"
     ]
    }
   ],
   "source": [
    "deduplicate_stats('service == \"Cirurgia eletiva\"')"
   ]
  },
  {
   "cell_type": "markdown",
   "metadata": {},
   "source": [
    "### deduplication by city"
   ]
  },
  {
   "cell_type": "markdown",
   "metadata": {},
   "source": [
    "Applying deduplication strategy in Palhoça, the queue would decrease 41%."
   ]
  },
  {
   "cell_type": "code",
   "execution_count": 26,
   "metadata": {},
   "outputs": [
    {
     "name": "stdout",
     "output_type": "stream",
     "text": [
      "           records in queue: 384253\n",
      "    unique records in queue: 223579\n",
      "         duplicated (total): 160674\n",
      "duplicates (same timestamp): 160305\n",
      "             queue decrease: 41 %\n"
     ]
    }
   ],
   "source": [
    "deduplicate_stats('city_of_residence == \"PALHOCA\"')"
   ]
  },
  {
   "cell_type": "code",
   "execution_count": 27,
   "metadata": {},
   "outputs": [
    {
     "name": "stdout",
     "output_type": "stream",
     "text": [
      "           records in queue: 347913\n",
      "    unique records in queue: 199099\n",
      "         duplicated (total): 148814\n",
      "duplicates (same timestamp): 148594\n",
      "             queue decrease: 42 %\n"
     ]
    }
   ],
   "source": [
    "deduplicate_stats('service == \"Exame\" and city_of_residence == \"PALHOCA\"')"
   ]
  },
  {
   "cell_type": "code",
   "execution_count": 28,
   "metadata": {},
   "outputs": [
    {
     "name": "stdout",
     "output_type": "stream",
     "text": [
      "           records in queue: 36313\n",
      "    unique records in queue: 24453\n",
      "         duplicated (total): 11860\n",
      "duplicates (same timestamp): 11711\n",
      "             queue decrease: 32 %\n"
     ]
    }
   ],
   "source": [
    "deduplicate_stats('service == \"Consulta\" and city_of_residence == \"PALHOCA\"')"
   ]
  },
  {
   "cell_type": "code",
   "execution_count": 29,
   "metadata": {},
   "outputs": [
    {
     "name": "stdout",
     "output_type": "stream",
     "text": [
      "           records in queue: 102497\n",
      "    unique records in queue: 101021\n",
      "         duplicated (total): 1476\n",
      "duplicates (same timestamp): 576\n",
      "             queue decrease: 1 %\n"
     ]
    }
   ],
   "source": [
    "deduplicate_stats('service == \"Exame\" and city_of_residence == \"SAO JOSE\"')"
   ]
  },
  {
   "cell_type": "code",
   "execution_count": 30,
   "metadata": {},
   "outputs": [
    {
     "name": "stdout",
     "output_type": "stream",
     "text": [
      "           records in queue: 57577\n",
      "    unique records in queue: 57535\n",
      "         duplicated (total): 42\n",
      "duplicates (same timestamp): 24\n",
      "             queue decrease: 0 %\n"
     ]
    }
   ],
   "source": [
    "deduplicate_stats('service == \"Exame\" and city_of_residence == \"BLUMENAU\"')"
   ]
  },
  {
   "cell_type": "code",
   "execution_count": 31,
   "metadata": {},
   "outputs": [
    {
     "name": "stdout",
     "output_type": "stream",
     "text": [
      "           records in queue: 26156\n",
      "    unique records in queue: 26139\n",
      "         duplicated (total): 17\n",
      "duplicates (same timestamp): 3\n",
      "             queue decrease: 0 %\n"
     ]
    }
   ],
   "source": [
    "deduplicate_stats('service == \"Consulta\" and city_of_residence == \"BLUMENAU\"')"
   ]
  },
  {
   "cell_type": "code",
   "execution_count": 32,
   "metadata": {},
   "outputs": [
    {
     "name": "stdout",
     "output_type": "stream",
     "text": [
      "           records in queue: 55737\n",
      "    unique records in queue: 45188\n",
      "         duplicated (total): 10549\n",
      "duplicates (same timestamp): 10037\n",
      "             queue decrease: 18 %\n"
     ]
    }
   ],
   "source": [
    "deduplicate_stats('service == \"Exame\" and city_of_residence == \"BIGUACU\"')"
   ]
  },
  {
   "cell_type": "code",
   "execution_count": 33,
   "metadata": {},
   "outputs": [
    {
     "name": "stdout",
     "output_type": "stream",
     "text": [
      "           records in queue: 22435\n",
      "    unique records in queue: 14648\n",
      "         duplicated (total): 7787\n",
      "duplicates (same timestamp): 7705\n",
      "             queue decrease: 34 %\n"
     ]
    }
   ],
   "source": [
    "deduplicate_stats('service == \"Consulta\" and city_of_residence == \"BIGUACU\"')"
   ]
  },
  {
   "cell_type": "code",
   "execution_count": 34,
   "metadata": {},
   "outputs": [
    {
     "name": "stdout",
     "output_type": "stream",
     "text": [
      "           records in queue: 45871\n",
      "    unique records in queue: 45754\n",
      "         duplicated (total): 117\n",
      "duplicates (same timestamp): 3\n",
      "             queue decrease: 0 %\n"
     ]
    }
   ],
   "source": [
    "deduplicate_stats('service == \"Exame\" and city_of_residence == \"FLORIANOPOLIS\"')"
   ]
  },
  {
   "cell_type": "code",
   "execution_count": 35,
   "metadata": {},
   "outputs": [
    {
     "name": "stdout",
     "output_type": "stream",
     "text": [
      "           records in queue: 69684\n",
      "    unique records in queue: 67698\n",
      "         duplicated (total): 1986\n",
      "duplicates (same timestamp): 1633\n",
      "             queue decrease: 2 %\n"
     ]
    }
   ],
   "source": [
    "deduplicate_stats('service == \"Consulta\" and city_of_residence == \"FLORIANOPOLIS\"')"
   ]
  },
  {
   "cell_type": "code",
   "execution_count": 36,
   "metadata": {},
   "outputs": [
    {
     "name": "stdout",
     "output_type": "stream",
     "text": [
      "           records in queue: 42011\n",
      "    unique records in queue: 41479\n",
      "         duplicated (total): 532\n",
      "duplicates (same timestamp): 440\n",
      "             queue decrease: 1 %\n"
     ]
    }
   ],
   "source": [
    "deduplicate_stats('service == \"Exame\" and city_of_residence == \"BRUSQUE\"')"
   ]
  },
  {
   "cell_type": "code",
   "execution_count": 37,
   "metadata": {},
   "outputs": [
    {
     "name": "stdout",
     "output_type": "stream",
     "text": [
      "           records in queue: 30321\n",
      "    unique records in queue: 30313\n",
      "         duplicated (total): 8\n",
      "duplicates (same timestamp): 1\n",
      "             queue decrease: 0 %\n"
     ]
    }
   ],
   "source": [
    "deduplicate_stats('service == \"Exame\" and city_of_residence == \"CHAPECO\"')"
   ]
  },
  {
   "cell_type": "code",
   "execution_count": 38,
   "metadata": {},
   "outputs": [
    {
     "name": "stdout",
     "output_type": "stream",
     "text": [
      "           records in queue: 26435\n",
      "    unique records in queue: 22584\n",
      "         duplicated (total): 3851\n",
      "duplicates (same timestamp): 3826\n",
      "             queue decrease: 14 %\n"
     ]
    }
   ],
   "source": [
    "deduplicate_stats('service == \"Exame\" and city_of_residence == \"CRICIUMA\"')"
   ]
  },
  {
   "cell_type": "code",
   "execution_count": 39,
   "metadata": {},
   "outputs": [
    {
     "name": "stdout",
     "output_type": "stream",
     "text": [
      "           records in queue: 14941\n",
      "    unique records in queue: 14413\n",
      "         duplicated (total): 528\n",
      "duplicates (same timestamp): 422\n",
      "             queue decrease: 3 %\n"
     ]
    }
   ],
   "source": [
    "deduplicate_stats('service == \"Exame\" and city_of_residence == \"GOVERNADOR CELSO RAMOS\"')"
   ]
  },
  {
   "cell_type": "code",
   "execution_count": 40,
   "metadata": {},
   "outputs": [
    {
     "name": "stdout",
     "output_type": "stream",
     "text": [
      "           records in queue: 11112\n",
      "    unique records in queue: 11111\n",
      "         duplicated (total): 1\n",
      "duplicates (same timestamp): 0\n",
      "             queue decrease: 0 %\n"
     ]
    }
   ],
   "source": [
    "deduplicate_stats('service == \"Exame\" and city_of_residence == \"JOINVILLE\"')"
   ]
  },
  {
   "cell_type": "code",
   "execution_count": 41,
   "metadata": {},
   "outputs": [
    {
     "name": "stdout",
     "output_type": "stream",
     "text": [
      "           records in queue: 11091\n",
      "    unique records in queue: 10667\n",
      "         duplicated (total): 424\n",
      "duplicates (same timestamp): 381\n",
      "             queue decrease: 3 %\n"
     ]
    }
   ],
   "source": [
    "deduplicate_stats('service == \"Exame\" and city_of_residence == \"SANTO AMARO DA IMPERATRIZ\"')"
   ]
  },
  {
   "cell_type": "markdown",
   "metadata": {},
   "source": [
    "As the percentage of duplications varies greatly between cities (from 0 to 42%), the problem seems to be linked to the scheduling center of some municipalities such as Palhoça and Biguaçu."
   ]
  },
  {
   "cell_type": "markdown",
   "metadata": {},
   "source": [
    "### deduplicating records with the same timestamps"
   ]
  },
  {
   "cell_type": "code",
   "execution_count": 42,
   "metadata": {
    "scrolled": true
   },
   "outputs": [
    {
     "data": {
      "text/plain": [
       "1306967"
      ]
     },
     "execution_count": 42,
     "metadata": {},
     "output_type": "execute_result"
    }
   ],
   "source": [
    "len(df)"
   ]
  },
  {
   "cell_type": "code",
   "execution_count": 43,
   "metadata": {},
   "outputs": [
    {
     "data": {
      "text/plain": [
       "1084843"
      ]
     },
     "execution_count": 43,
     "metadata": {},
     "output_type": "execute_result"
    }
   ],
   "source": [
    "df.drop_duplicates(subset=['document', 'procedure_description', 'request_date'], inplace=True)\n",
    "len(df)"
   ]
  },
  {
   "cell_type": "markdown",
   "metadata": {},
   "source": [
    "### duplicate with different timestamps"
   ]
  },
  {
   "cell_type": "markdown",
   "metadata": {},
   "source": [
    "There is also another kind of duplication: registers with different timestamps."
   ]
  },
  {
   "cell_type": "code",
   "execution_count": 44,
   "metadata": {},
   "outputs": [
    {
     "data": {
      "text/html": [
       "<div>\n",
       "<style scoped>\n",
       "    .dataframe tbody tr th:only-of-type {\n",
       "        vertical-align: middle;\n",
       "    }\n",
       "\n",
       "    .dataframe tbody tr th {\n",
       "        vertical-align: top;\n",
       "    }\n",
       "\n",
       "    .dataframe thead th {\n",
       "        text-align: right;\n",
       "    }\n",
       "</style>\n",
       "<table border=\"1\" class=\"dataframe\">\n",
       "  <thead>\n",
       "    <tr style=\"text-align: right;\">\n",
       "      <th></th>\n",
       "      <th></th>\n",
       "      <th>service</th>\n",
       "      <th>regulation_center</th>\n",
       "      <th>city_of_residence</th>\n",
       "      <th>position</th>\n",
       "      <th>average_waiting_days</th>\n",
       "      <th>classification</th>\n",
       "      <th>list_type</th>\n",
       "      <th>request_date</th>\n",
       "      <th>name</th>\n",
       "      <th>date_of_birth</th>\n",
       "      <th>requesting_centra_code</th>\n",
       "      <th>executing_center_code</th>\n",
       "      <th>requesting_unit_code</th>\n",
       "      <th>procedure_code</th>\n",
       "      <th>description_of_the_procedure_group</th>\n",
       "    </tr>\n",
       "    <tr>\n",
       "      <th>document</th>\n",
       "      <th>procedure_description</th>\n",
       "      <th></th>\n",
       "      <th></th>\n",
       "      <th></th>\n",
       "      <th></th>\n",
       "      <th></th>\n",
       "      <th></th>\n",
       "      <th></th>\n",
       "      <th></th>\n",
       "      <th></th>\n",
       "      <th></th>\n",
       "      <th></th>\n",
       "      <th></th>\n",
       "      <th></th>\n",
       "      <th></th>\n",
       "      <th></th>\n",
       "    </tr>\n",
       "  </thead>\n",
       "  <tbody>\n",
       "    <tr>\n",
       "      <th>102565283890005</th>\n",
       "      <th>CONSULTA EM ORTOPEDIA - JOELHO</th>\n",
       "      <td>2</td>\n",
       "      <td>2</td>\n",
       "      <td>2</td>\n",
       "      <td>2</td>\n",
       "      <td>2</td>\n",
       "      <td>2</td>\n",
       "      <td>2</td>\n",
       "      <td>2</td>\n",
       "      <td>2</td>\n",
       "      <td>0</td>\n",
       "      <td>2</td>\n",
       "      <td>2</td>\n",
       "      <td>2</td>\n",
       "      <td>2</td>\n",
       "      <td>0</td>\n",
       "    </tr>\n",
       "    <tr>\n",
       "      <th>106406250770005</th>\n",
       "      <th>CONSULTA EM ORTOPEDIA (OMBROS)</th>\n",
       "      <td>4</td>\n",
       "      <td>4</td>\n",
       "      <td>4</td>\n",
       "      <td>4</td>\n",
       "      <td>4</td>\n",
       "      <td>4</td>\n",
       "      <td>4</td>\n",
       "      <td>4</td>\n",
       "      <td>4</td>\n",
       "      <td>0</td>\n",
       "      <td>4</td>\n",
       "      <td>4</td>\n",
       "      <td>4</td>\n",
       "      <td>4</td>\n",
       "      <td>0</td>\n",
       "    </tr>\n",
       "    <tr>\n",
       "      <th>106494974700008</th>\n",
       "      <th>CONSULTA EM ORTOPEDIA - COLUNA</th>\n",
       "      <td>2</td>\n",
       "      <td>2</td>\n",
       "      <td>2</td>\n",
       "      <td>2</td>\n",
       "      <td>2</td>\n",
       "      <td>2</td>\n",
       "      <td>2</td>\n",
       "      <td>2</td>\n",
       "      <td>2</td>\n",
       "      <td>0</td>\n",
       "      <td>2</td>\n",
       "      <td>2</td>\n",
       "      <td>2</td>\n",
       "      <td>2</td>\n",
       "      <td>0</td>\n",
       "    </tr>\n",
       "    <tr>\n",
       "      <th>107850981400007</th>\n",
       "      <th>CONSULTA EM ORTOPEDIA (OMBROS)</th>\n",
       "      <td>2</td>\n",
       "      <td>2</td>\n",
       "      <td>2</td>\n",
       "      <td>2</td>\n",
       "      <td>2</td>\n",
       "      <td>2</td>\n",
       "      <td>2</td>\n",
       "      <td>2</td>\n",
       "      <td>2</td>\n",
       "      <td>0</td>\n",
       "      <td>2</td>\n",
       "      <td>2</td>\n",
       "      <td>2</td>\n",
       "      <td>2</td>\n",
       "      <td>0</td>\n",
       "    </tr>\n",
       "    <tr>\n",
       "      <th>120268161090008</th>\n",
       "      <th>CONSULTA EM ORTOPEDIA - JOELHO</th>\n",
       "      <td>3</td>\n",
       "      <td>3</td>\n",
       "      <td>3</td>\n",
       "      <td>3</td>\n",
       "      <td>3</td>\n",
       "      <td>3</td>\n",
       "      <td>3</td>\n",
       "      <td>3</td>\n",
       "      <td>3</td>\n",
       "      <td>0</td>\n",
       "      <td>3</td>\n",
       "      <td>3</td>\n",
       "      <td>3</td>\n",
       "      <td>3</td>\n",
       "      <td>0</td>\n",
       "    </tr>\n",
       "    <tr>\n",
       "      <th>120522676990000</th>\n",
       "      <th>CONSULTA EM ORTOPEDIA - COLUNA</th>\n",
       "      <td>2</td>\n",
       "      <td>2</td>\n",
       "      <td>2</td>\n",
       "      <td>2</td>\n",
       "      <td>2</td>\n",
       "      <td>2</td>\n",
       "      <td>2</td>\n",
       "      <td>2</td>\n",
       "      <td>2</td>\n",
       "      <td>0</td>\n",
       "      <td>2</td>\n",
       "      <td>2</td>\n",
       "      <td>2</td>\n",
       "      <td>2</td>\n",
       "      <td>0</td>\n",
       "    </tr>\n",
       "    <tr>\n",
       "      <th>120788847680004</th>\n",
       "      <th>CONSULTA EM ORTOPEDIA (OMBROS)</th>\n",
       "      <td>2</td>\n",
       "      <td>2</td>\n",
       "      <td>2</td>\n",
       "      <td>2</td>\n",
       "      <td>2</td>\n",
       "      <td>2</td>\n",
       "      <td>2</td>\n",
       "      <td>2</td>\n",
       "      <td>2</td>\n",
       "      <td>0</td>\n",
       "      <td>2</td>\n",
       "      <td>2</td>\n",
       "      <td>2</td>\n",
       "      <td>2</td>\n",
       "      <td>0</td>\n",
       "    </tr>\n",
       "    <tr>\n",
       "      <th>121472585140003</th>\n",
       "      <th>CONSULTA EM ORTOPEDIA - COLUNA</th>\n",
       "      <td>2</td>\n",
       "      <td>2</td>\n",
       "      <td>2</td>\n",
       "      <td>2</td>\n",
       "      <td>2</td>\n",
       "      <td>2</td>\n",
       "      <td>2</td>\n",
       "      <td>2</td>\n",
       "      <td>2</td>\n",
       "      <td>0</td>\n",
       "      <td>2</td>\n",
       "      <td>2</td>\n",
       "      <td>2</td>\n",
       "      <td>2</td>\n",
       "      <td>0</td>\n",
       "    </tr>\n",
       "    <tr>\n",
       "      <th>122183393410004</th>\n",
       "      <th>CONSULTA EM ORTOPEDIA - COLUNA</th>\n",
       "      <td>2</td>\n",
       "      <td>2</td>\n",
       "      <td>2</td>\n",
       "      <td>2</td>\n",
       "      <td>2</td>\n",
       "      <td>2</td>\n",
       "      <td>2</td>\n",
       "      <td>2</td>\n",
       "      <td>2</td>\n",
       "      <td>0</td>\n",
       "      <td>2</td>\n",
       "      <td>2</td>\n",
       "      <td>2</td>\n",
       "      <td>2</td>\n",
       "      <td>0</td>\n",
       "    </tr>\n",
       "    <tr>\n",
       "      <th>122183676980006</th>\n",
       "      <th>CONSULTA EM ORTOPEDIA - COLUNA</th>\n",
       "      <td>4</td>\n",
       "      <td>4</td>\n",
       "      <td>4</td>\n",
       "      <td>4</td>\n",
       "      <td>4</td>\n",
       "      <td>4</td>\n",
       "      <td>4</td>\n",
       "      <td>4</td>\n",
       "      <td>4</td>\n",
       "      <td>0</td>\n",
       "      <td>4</td>\n",
       "      <td>4</td>\n",
       "      <td>4</td>\n",
       "      <td>4</td>\n",
       "      <td>0</td>\n",
       "    </tr>\n",
       "  </tbody>\n",
       "</table>\n",
       "</div>"
      ],
      "text/plain": [
       "                                                service  regulation_center  \\\n",
       "document        procedure_description                                        \n",
       "102565283890005 CONSULTA EM ORTOPEDIA - JOELHO        2                  2   \n",
       "106406250770005 CONSULTA EM ORTOPEDIA (OMBROS)        4                  4   \n",
       "106494974700008 CONSULTA EM ORTOPEDIA - COLUNA        2                  2   \n",
       "107850981400007 CONSULTA EM ORTOPEDIA (OMBROS)        2                  2   \n",
       "120268161090008 CONSULTA EM ORTOPEDIA - JOELHO        3                  3   \n",
       "120522676990000 CONSULTA EM ORTOPEDIA - COLUNA        2                  2   \n",
       "120788847680004 CONSULTA EM ORTOPEDIA (OMBROS)        2                  2   \n",
       "121472585140003 CONSULTA EM ORTOPEDIA - COLUNA        2                  2   \n",
       "122183393410004 CONSULTA EM ORTOPEDIA - COLUNA        2                  2   \n",
       "122183676980006 CONSULTA EM ORTOPEDIA - COLUNA        4                  4   \n",
       "\n",
       "                                                city_of_residence  position  \\\n",
       "document        procedure_description                                         \n",
       "102565283890005 CONSULTA EM ORTOPEDIA - JOELHO                  2         2   \n",
       "106406250770005 CONSULTA EM ORTOPEDIA (OMBROS)                  4         4   \n",
       "106494974700008 CONSULTA EM ORTOPEDIA - COLUNA                  2         2   \n",
       "107850981400007 CONSULTA EM ORTOPEDIA (OMBROS)                  2         2   \n",
       "120268161090008 CONSULTA EM ORTOPEDIA - JOELHO                  3         3   \n",
       "120522676990000 CONSULTA EM ORTOPEDIA - COLUNA                  2         2   \n",
       "120788847680004 CONSULTA EM ORTOPEDIA (OMBROS)                  2         2   \n",
       "121472585140003 CONSULTA EM ORTOPEDIA - COLUNA                  2         2   \n",
       "122183393410004 CONSULTA EM ORTOPEDIA - COLUNA                  2         2   \n",
       "122183676980006 CONSULTA EM ORTOPEDIA - COLUNA                  4         4   \n",
       "\n",
       "                                                average_waiting_days  \\\n",
       "document        procedure_description                                  \n",
       "102565283890005 CONSULTA EM ORTOPEDIA - JOELHO                     2   \n",
       "106406250770005 CONSULTA EM ORTOPEDIA (OMBROS)                     4   \n",
       "106494974700008 CONSULTA EM ORTOPEDIA - COLUNA                     2   \n",
       "107850981400007 CONSULTA EM ORTOPEDIA (OMBROS)                     2   \n",
       "120268161090008 CONSULTA EM ORTOPEDIA - JOELHO                     3   \n",
       "120522676990000 CONSULTA EM ORTOPEDIA - COLUNA                     2   \n",
       "120788847680004 CONSULTA EM ORTOPEDIA (OMBROS)                     2   \n",
       "121472585140003 CONSULTA EM ORTOPEDIA - COLUNA                     2   \n",
       "122183393410004 CONSULTA EM ORTOPEDIA - COLUNA                     2   \n",
       "122183676980006 CONSULTA EM ORTOPEDIA - COLUNA                     4   \n",
       "\n",
       "                                                classification  list_type  \\\n",
       "document        procedure_description                                       \n",
       "102565283890005 CONSULTA EM ORTOPEDIA - JOELHO               2          2   \n",
       "106406250770005 CONSULTA EM ORTOPEDIA (OMBROS)               4          4   \n",
       "106494974700008 CONSULTA EM ORTOPEDIA - COLUNA               2          2   \n",
       "107850981400007 CONSULTA EM ORTOPEDIA (OMBROS)               2          2   \n",
       "120268161090008 CONSULTA EM ORTOPEDIA - JOELHO               3          3   \n",
       "120522676990000 CONSULTA EM ORTOPEDIA - COLUNA               2          2   \n",
       "120788847680004 CONSULTA EM ORTOPEDIA (OMBROS)               2          2   \n",
       "121472585140003 CONSULTA EM ORTOPEDIA - COLUNA               2          2   \n",
       "122183393410004 CONSULTA EM ORTOPEDIA - COLUNA               2          2   \n",
       "122183676980006 CONSULTA EM ORTOPEDIA - COLUNA               4          4   \n",
       "\n",
       "                                                request_date  name  \\\n",
       "document        procedure_description                                \n",
       "102565283890005 CONSULTA EM ORTOPEDIA - JOELHO             2     2   \n",
       "106406250770005 CONSULTA EM ORTOPEDIA (OMBROS)             4     4   \n",
       "106494974700008 CONSULTA EM ORTOPEDIA - COLUNA             2     2   \n",
       "107850981400007 CONSULTA EM ORTOPEDIA (OMBROS)             2     2   \n",
       "120268161090008 CONSULTA EM ORTOPEDIA - JOELHO             3     3   \n",
       "120522676990000 CONSULTA EM ORTOPEDIA - COLUNA             2     2   \n",
       "120788847680004 CONSULTA EM ORTOPEDIA (OMBROS)             2     2   \n",
       "121472585140003 CONSULTA EM ORTOPEDIA - COLUNA             2     2   \n",
       "122183393410004 CONSULTA EM ORTOPEDIA - COLUNA             2     2   \n",
       "122183676980006 CONSULTA EM ORTOPEDIA - COLUNA             4     4   \n",
       "\n",
       "                                                date_of_birth  \\\n",
       "document        procedure_description                           \n",
       "102565283890005 CONSULTA EM ORTOPEDIA - JOELHO              0   \n",
       "106406250770005 CONSULTA EM ORTOPEDIA (OMBROS)              0   \n",
       "106494974700008 CONSULTA EM ORTOPEDIA - COLUNA              0   \n",
       "107850981400007 CONSULTA EM ORTOPEDIA (OMBROS)              0   \n",
       "120268161090008 CONSULTA EM ORTOPEDIA - JOELHO              0   \n",
       "120522676990000 CONSULTA EM ORTOPEDIA - COLUNA              0   \n",
       "120788847680004 CONSULTA EM ORTOPEDIA (OMBROS)              0   \n",
       "121472585140003 CONSULTA EM ORTOPEDIA - COLUNA              0   \n",
       "122183393410004 CONSULTA EM ORTOPEDIA - COLUNA              0   \n",
       "122183676980006 CONSULTA EM ORTOPEDIA - COLUNA              0   \n",
       "\n",
       "                                                requesting_centra_code  \\\n",
       "document        procedure_description                                    \n",
       "102565283890005 CONSULTA EM ORTOPEDIA - JOELHO                       2   \n",
       "106406250770005 CONSULTA EM ORTOPEDIA (OMBROS)                       4   \n",
       "106494974700008 CONSULTA EM ORTOPEDIA - COLUNA                       2   \n",
       "107850981400007 CONSULTA EM ORTOPEDIA (OMBROS)                       2   \n",
       "120268161090008 CONSULTA EM ORTOPEDIA - JOELHO                       3   \n",
       "120522676990000 CONSULTA EM ORTOPEDIA - COLUNA                       2   \n",
       "120788847680004 CONSULTA EM ORTOPEDIA (OMBROS)                       2   \n",
       "121472585140003 CONSULTA EM ORTOPEDIA - COLUNA                       2   \n",
       "122183393410004 CONSULTA EM ORTOPEDIA - COLUNA                       2   \n",
       "122183676980006 CONSULTA EM ORTOPEDIA - COLUNA                       4   \n",
       "\n",
       "                                                executing_center_code  \\\n",
       "document        procedure_description                                   \n",
       "102565283890005 CONSULTA EM ORTOPEDIA - JOELHO                      2   \n",
       "106406250770005 CONSULTA EM ORTOPEDIA (OMBROS)                      4   \n",
       "106494974700008 CONSULTA EM ORTOPEDIA - COLUNA                      2   \n",
       "107850981400007 CONSULTA EM ORTOPEDIA (OMBROS)                      2   \n",
       "120268161090008 CONSULTA EM ORTOPEDIA - JOELHO                      3   \n",
       "120522676990000 CONSULTA EM ORTOPEDIA - COLUNA                      2   \n",
       "120788847680004 CONSULTA EM ORTOPEDIA (OMBROS)                      2   \n",
       "121472585140003 CONSULTA EM ORTOPEDIA - COLUNA                      2   \n",
       "122183393410004 CONSULTA EM ORTOPEDIA - COLUNA                      2   \n",
       "122183676980006 CONSULTA EM ORTOPEDIA - COLUNA                      4   \n",
       "\n",
       "                                                requesting_unit_code  \\\n",
       "document        procedure_description                                  \n",
       "102565283890005 CONSULTA EM ORTOPEDIA - JOELHO                     2   \n",
       "106406250770005 CONSULTA EM ORTOPEDIA (OMBROS)                     4   \n",
       "106494974700008 CONSULTA EM ORTOPEDIA - COLUNA                     2   \n",
       "107850981400007 CONSULTA EM ORTOPEDIA (OMBROS)                     2   \n",
       "120268161090008 CONSULTA EM ORTOPEDIA - JOELHO                     3   \n",
       "120522676990000 CONSULTA EM ORTOPEDIA - COLUNA                     2   \n",
       "120788847680004 CONSULTA EM ORTOPEDIA (OMBROS)                     2   \n",
       "121472585140003 CONSULTA EM ORTOPEDIA - COLUNA                     2   \n",
       "122183393410004 CONSULTA EM ORTOPEDIA - COLUNA                     2   \n",
       "122183676980006 CONSULTA EM ORTOPEDIA - COLUNA                     4   \n",
       "\n",
       "                                                procedure_code  \\\n",
       "document        procedure_description                            \n",
       "102565283890005 CONSULTA EM ORTOPEDIA - JOELHO               2   \n",
       "106406250770005 CONSULTA EM ORTOPEDIA (OMBROS)               4   \n",
       "106494974700008 CONSULTA EM ORTOPEDIA - COLUNA               2   \n",
       "107850981400007 CONSULTA EM ORTOPEDIA (OMBROS)               2   \n",
       "120268161090008 CONSULTA EM ORTOPEDIA - JOELHO               3   \n",
       "120522676990000 CONSULTA EM ORTOPEDIA - COLUNA               2   \n",
       "120788847680004 CONSULTA EM ORTOPEDIA (OMBROS)               2   \n",
       "121472585140003 CONSULTA EM ORTOPEDIA - COLUNA               2   \n",
       "122183393410004 CONSULTA EM ORTOPEDIA - COLUNA               2   \n",
       "122183676980006 CONSULTA EM ORTOPEDIA - COLUNA               4   \n",
       "\n",
       "                                                description_of_the_procedure_group  \n",
       "document        procedure_description                                               \n",
       "102565283890005 CONSULTA EM ORTOPEDIA - JOELHO                                   0  \n",
       "106406250770005 CONSULTA EM ORTOPEDIA (OMBROS)                                   0  \n",
       "106494974700008 CONSULTA EM ORTOPEDIA - COLUNA                                   0  \n",
       "107850981400007 CONSULTA EM ORTOPEDIA (OMBROS)                                   0  \n",
       "120268161090008 CONSULTA EM ORTOPEDIA - JOELHO                                   0  \n",
       "120522676990000 CONSULTA EM ORTOPEDIA - COLUNA                                   0  \n",
       "120788847680004 CONSULTA EM ORTOPEDIA (OMBROS)                                   0  \n",
       "121472585140003 CONSULTA EM ORTOPEDIA - COLUNA                                   0  \n",
       "122183393410004 CONSULTA EM ORTOPEDIA - COLUNA                                   0  \n",
       "122183676980006 CONSULTA EM ORTOPEDIA - COLUNA                                   0  "
      ]
     },
     "execution_count": 44,
     "metadata": {},
     "output_type": "execute_result"
    }
   ],
   "source": [
    "(\n",
    "    df\n",
    "    .query('service == \"Consulta\" and city_of_residence == \"FLORIANOPOLIS\"')\n",
    "    .groupby(['document', 'procedure_description'])\n",
    "    .count()\n",
    "    .query('service > 1')\n",
    "    .head(10)\n",
    ")"
   ]
  },
  {
   "cell_type": "markdown",
   "metadata": {},
   "source": [
    "The same patient scheduled 4 appointments with orthopedist in 1 year. Has he lost the scheduling paper?\n",
    "Can we clean it up - keep the patient at 314th position and delete the other records?\n",
    "If he goes in one appointment (314th position), the following are even marked?"
   ]
  },
  {
   "cell_type": "code",
   "execution_count": 45,
   "metadata": {},
   "outputs": [
    {
     "data": {
      "text/html": [
       "<div>\n",
       "<style scoped>\n",
       "    .dataframe tbody tr th:only-of-type {\n",
       "        vertical-align: middle;\n",
       "    }\n",
       "\n",
       "    .dataframe tbody tr th {\n",
       "        vertical-align: top;\n",
       "    }\n",
       "\n",
       "    .dataframe thead th {\n",
       "        text-align: right;\n",
       "    }\n",
       "</style>\n",
       "<table border=\"1\" class=\"dataframe\">\n",
       "  <thead>\n",
       "    <tr style=\"text-align: right;\">\n",
       "      <th></th>\n",
       "      <th>service</th>\n",
       "      <th>position</th>\n",
       "      <th>request_date</th>\n",
       "      <th>procedure_description</th>\n",
       "      <th>executing_center_code</th>\n",
       "    </tr>\n",
       "  </thead>\n",
       "  <tbody>\n",
       "    <tr>\n",
       "      <th>818446</th>\n",
       "      <td>Consulta</td>\n",
       "      <td>314</td>\n",
       "      <td>24/07/2012 09:32:26</td>\n",
       "      <td>CONSULTA EM ORTOPEDIA (OMBROS)</td>\n",
       "      <td>2692260</td>\n",
       "    </tr>\n",
       "    <tr>\n",
       "      <th>818622</th>\n",
       "      <td>Consulta</td>\n",
       "      <td>490</td>\n",
       "      <td>19/11/2012 09:48:33</td>\n",
       "      <td>CONSULTA EM ORTOPEDIA (OMBROS)</td>\n",
       "      <td>2692260</td>\n",
       "    </tr>\n",
       "    <tr>\n",
       "      <th>818878</th>\n",
       "      <td>Consulta</td>\n",
       "      <td>746</td>\n",
       "      <td>21/06/2013 16:07:22</td>\n",
       "      <td>CONSULTA EM ORTOPEDIA (OMBROS)</td>\n",
       "      <td>2692260</td>\n",
       "    </tr>\n",
       "    <tr>\n",
       "      <th>818943</th>\n",
       "      <td>Consulta</td>\n",
       "      <td>811</td>\n",
       "      <td>26/07/2013 17:31:28</td>\n",
       "      <td>CONSULTA EM ORTOPEDIA (OMBROS)</td>\n",
       "      <td>2692260</td>\n",
       "    </tr>\n",
       "  </tbody>\n",
       "</table>\n",
       "</div>"
      ],
      "text/plain": [
       "         service  position         request_date  \\\n",
       "818446  Consulta       314  24/07/2012 09:32:26   \n",
       "818622  Consulta       490  19/11/2012 09:48:33   \n",
       "818878  Consulta       746  21/06/2013 16:07:22   \n",
       "818943  Consulta       811  26/07/2013 17:31:28   \n",
       "\n",
       "                 procedure_description executing_center_code  \n",
       "818446  CONSULTA EM ORTOPEDIA (OMBROS)               2692260  \n",
       "818622  CONSULTA EM ORTOPEDIA (OMBROS)               2692260  \n",
       "818878  CONSULTA EM ORTOPEDIA (OMBROS)               2692260  \n",
       "818943  CONSULTA EM ORTOPEDIA (OMBROS)               2692260  "
      ]
     },
     "execution_count": 45,
     "metadata": {},
     "output_type": "execute_result"
    }
   ],
   "source": [
    "df.query('document == 106406250770005')[['service', 'position', 'request_date', \n",
    "                                         'procedure_description', 'executing_center_code']]"
   ]
  },
  {
   "cell_type": "markdown",
   "metadata": {},
   "source": [
    "# patients with the same procedure more than once in queue"
   ]
  },
  {
   "cell_type": "code",
   "execution_count": 46,
   "metadata": {},
   "outputs": [
    {
     "name": "stdout",
     "output_type": "stream",
     "text": [
      "Patients with duplication appointments: 3996\n"
     ]
    }
   ],
   "source": [
    "unique_rows = df.groupby(['document', 'procedure_description'])\n",
    "duplicated = (\n",
    "    df\n",
    "    .groupby(['document', 'procedure_description'])\n",
    "    .count()\n",
    "    .query('service > 1')[['service']]\n",
    "    .rename(columns={'service': 'duplicated'})\n",
    ")\n",
    "duplicated.to_csv('duplicated_patients.csv', index=False)\n",
    "print('Patients with duplication appointments:', duplicated.shape[0])"
   ]
  },
  {
   "cell_type": "code",
   "execution_count": 47,
   "metadata": {},
   "outputs": [
    {
     "data": {
      "text/html": [
       "<div>\n",
       "<style scoped>\n",
       "    .dataframe tbody tr th:only-of-type {\n",
       "        vertical-align: middle;\n",
       "    }\n",
       "\n",
       "    .dataframe tbody tr th {\n",
       "        vertical-align: top;\n",
       "    }\n",
       "\n",
       "    .dataframe thead th {\n",
       "        text-align: right;\n",
       "    }\n",
       "</style>\n",
       "<table border=\"1\" class=\"dataframe\">\n",
       "  <thead>\n",
       "    <tr style=\"text-align: right;\">\n",
       "      <th></th>\n",
       "      <th></th>\n",
       "      <th>duplicated</th>\n",
       "    </tr>\n",
       "    <tr>\n",
       "      <th>document</th>\n",
       "      <th>procedure_description</th>\n",
       "      <th></th>\n",
       "    </tr>\n",
       "  </thead>\n",
       "  <tbody>\n",
       "    <tr>\n",
       "      <th>898002302685808</th>\n",
       "      <th>TOMOGRAFIA COMPUTADORIZADA DO ABDOMEN  SUPERIOR</th>\n",
       "      <td>11</td>\n",
       "    </tr>\n",
       "    <tr>\n",
       "      <th>709201250723236</th>\n",
       "      <th>CONSULTA EM ORTOPEDIA (OMBROS)</th>\n",
       "      <td>6</td>\n",
       "    </tr>\n",
       "    <tr>\n",
       "      <th>898000360892436</th>\n",
       "      <th>ESTUDO URODINAMICO</th>\n",
       "      <td>6</td>\n",
       "    </tr>\n",
       "    <tr>\n",
       "      <th>898003386998498</th>\n",
       "      <th>CONSULTA EM REABILITACAO INTELECTUAL /AUTISMO</th>\n",
       "      <td>5</td>\n",
       "    </tr>\n",
       "    <tr>\n",
       "      <th>898002352416886</th>\n",
       "      <th>ULTRA-SONOGRAFIA DE MAMAS (BILATERAL)</th>\n",
       "      <td>5</td>\n",
       "    </tr>\n",
       "    <tr>\n",
       "      <th>203455784940000</th>\n",
       "      <th>CONSULTA EM ORTOPEDIA - COLUNA</th>\n",
       "      <td>5</td>\n",
       "    </tr>\n",
       "    <tr>\n",
       "      <th>898050021266281</th>\n",
       "      <th>ENDOSCOPIA DIGESTIVA ALTA</th>\n",
       "      <td>4</td>\n",
       "    </tr>\n",
       "    <tr>\n",
       "      <th>898002286426432</th>\n",
       "      <th>CONSULTA EM ORTOPEDIA - COLUNA</th>\n",
       "      <td>4</td>\n",
       "    </tr>\n",
       "    <tr>\n",
       "      <th>708208193824642</th>\n",
       "      <th>CONSULTA EM GASTROENTEROLOGIA - GERAL</th>\n",
       "      <td>4</td>\n",
       "    </tr>\n",
       "    <tr>\n",
       "      <th>707004812060631</th>\n",
       "      <th>CONSULTA EM ORTOPEDIA - GERAL</th>\n",
       "      <td>4</td>\n",
       "    </tr>\n",
       "    <tr>\n",
       "      <th>898000361391236</th>\n",
       "      <th>CONSULTA EM ORTOPEDIA - PE/TORNOZELO</th>\n",
       "      <td>4</td>\n",
       "    </tr>\n",
       "    <tr>\n",
       "      <th>700409400631643</th>\n",
       "      <th>ESTUDO URODINAMICO</th>\n",
       "      <td>4</td>\n",
       "    </tr>\n",
       "    <tr>\n",
       "      <th>700708403187880</th>\n",
       "      <th>CONSULTA EM ORTOPEDIA ADULTO (MAO)</th>\n",
       "      <td>4</td>\n",
       "    </tr>\n",
       "    <tr>\n",
       "      <th>702807636286061</th>\n",
       "      <th>CONSULTA EM ORTOPEDIA - PE/TORNOZELO</th>\n",
       "      <td>4</td>\n",
       "    </tr>\n",
       "    <tr>\n",
       "      <th>898002318811697</th>\n",
       "      <th>ENDOSCOPIA DIGESTIVA ALTA</th>\n",
       "      <td>4</td>\n",
       "    </tr>\n",
       "  </tbody>\n",
       "</table>\n",
       "</div>"
      ],
      "text/plain": [
       "                                                                 duplicated\n",
       "document        procedure_description                                      \n",
       "898002302685808 TOMOGRAFIA COMPUTADORIZADA DO ABDOMEN  SUPERIOR          11\n",
       "709201250723236 CONSULTA EM ORTOPEDIA (OMBROS)                            6\n",
       "898000360892436 ESTUDO URODINAMICO                                        6\n",
       "898003386998498 CONSULTA EM REABILITACAO INTELECTUAL /AUTISMO             5\n",
       "898002352416886 ULTRA-SONOGRAFIA DE MAMAS (BILATERAL)                     5\n",
       "203455784940000 CONSULTA EM ORTOPEDIA - COLUNA                            5\n",
       "898050021266281 ENDOSCOPIA DIGESTIVA ALTA                                 4\n",
       "898002286426432 CONSULTA EM ORTOPEDIA - COLUNA                            4\n",
       "708208193824642 CONSULTA EM GASTROENTEROLOGIA - GERAL                     4\n",
       "707004812060631 CONSULTA EM ORTOPEDIA - GERAL                             4\n",
       "898000361391236 CONSULTA EM ORTOPEDIA - PE/TORNOZELO                      4\n",
       "700409400631643 ESTUDO URODINAMICO                                        4\n",
       "700708403187880 CONSULTA EM ORTOPEDIA ADULTO (MAO)                        4\n",
       "702807636286061 CONSULTA EM ORTOPEDIA - PE/TORNOZELO                      4\n",
       "898002318811697 ENDOSCOPIA DIGESTIVA ALTA                                 4"
      ]
     },
     "execution_count": 47,
     "metadata": {},
     "output_type": "execute_result"
    }
   ],
   "source": [
    "duplicated.sort_values(by='duplicated', ascending=False).head(15)"
   ]
  },
  {
   "cell_type": "markdown",
   "metadata": {},
   "source": [
    "# queue without duplicates"
   ]
  },
  {
   "cell_type": "code",
   "execution_count": 48,
   "metadata": {},
   "outputs": [
    {
     "name": "stdout",
     "output_type": "stream",
     "text": [
      " queue size without procedure duplication: 1080625\n"
     ]
    }
   ],
   "source": [
    "df_deduplified = df.sort_values(by='position')\n",
    "df_deduplified.drop_duplicates(subset=['document', 'procedure_description'], keep='first', inplace=True)\n",
    "df_deduplified.to_csv('deduplicated_queue.csv', index=False)\n",
    "print(' queue size without procedure duplication:', df_deduplified.shape[0])"
   ]
  }
 ],
 "metadata": {
  "kernelspec": {
   "display_name": "Python 3",
   "language": "python",
   "name": "python3"
  },
  "language_info": {
   "codemirror_mode": {
    "name": "ipython",
    "version": 3
   },
   "file_extension": ".py",
   "mimetype": "text/x-python",
   "name": "python",
   "nbconvert_exporter": "python",
   "pygments_lexer": "ipython3",
   "version": "3.5.2"
  }
 },
 "nbformat": 4,
 "nbformat_minor": 2
}
